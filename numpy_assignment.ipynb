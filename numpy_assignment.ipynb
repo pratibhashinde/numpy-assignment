{
  "nbformat": 4,
  "nbformat_minor": 0,
  "metadata": {
    "colab": {
      "name": "numpy_assignment.ipynb",
      "provenance": []
    },
    "kernelspec": {
      "name": "python3",
      "display_name": "Python 3"
    }
  },
  "cells": [
    {
      "cell_type": "markdown",
      "metadata": {
        "id": "LOJehxvFF1Vt"
      },
      "source": [
        "Write a function so that the columns of the output matrix are powers of the input\n",
        "vector.\n",
        "The order of the powers is determined by the increasing boolean argument. Specifically, when\n",
        "increasing is False, the i-th output column is the input vector raised element-wise to the power\n",
        "of N - i - 1.\n",
        "\n",
        "HINT: Such a matrix with a geometric progression in each row is named for Alexandre-\n",
        "Theophile Vandermonde."
      ]
    },
    {
      "cell_type": "code",
      "metadata": {
        "id": "2epX1zl_NJmp"
      },
      "source": [
        "def matrix(vector,power):\n",
        "  vec=np.array(vector)\n",
        "  vec=vec.T\n",
        "  new=np.zeros((len(vec),power+1))\n",
        "  for i in range(power+1):\n",
        "    new[:,i]=vec**i\n",
        "  print(np.array(new))"
      ],
      "execution_count": 92,
      "outputs": []
    },
    {
      "cell_type": "code",
      "metadata": {
        "id": "zX3ufCLUNwjx",
        "outputId": "62fe2ced-a75e-4000-9223-12bfbdfc8ba3",
        "colab": {
          "base_uri": "https://localhost:8080/",
          "height": 108
        }
      },
      "source": [
        "matrix([2,0,4,1,1],2)"
      ],
      "execution_count": 93,
      "outputs": [
        {
          "output_type": "stream",
          "text": [
            "[[ 1.  2.  4.]\n",
            " [ 1.  0.  0.]\n",
            " [ 1.  4. 16.]\n",
            " [ 1.  1.  1.]\n",
            " [ 1.  1.  1.]]\n"
          ],
          "name": "stdout"
        }
      ]
    },
    {
      "cell_type": "markdown",
      "metadata": {
        "id": "jimAteegTReg"
      },
      "source": [
        "Write a function to find moving average in an array over a window: Test it over [3, 5, 7, 2, 8, 10, 11, 65, 72, 81, 99, 100, 150] and window of 3."
      ]
    },
    {
      "cell_type": "code",
      "metadata": {
        "id": "MOiJKVRJYlHZ"
      },
      "source": [
        "def mov_avg(ar,w):\n",
        "  a=np.array(ar)\n",
        "  i=0\n",
        "  b=np.array(np.zeros((1,len(a)-w+1)))\n",
        "  while i<(len(a)-w+1):\n",
        "    b[0,i]=sum(a[i:i+w])/w\n",
        "    i=i+1\n",
        "  print(b)\n"
      ],
      "execution_count": 94,
      "outputs": []
    },
    {
      "cell_type": "code",
      "metadata": {
        "id": "EW3-EaYPY9pj",
        "outputId": "8b99e8ef-07a3-4ab4-ddbb-39fd89d039cb",
        "colab": {
          "base_uri": "https://localhost:8080/",
          "height": 72
        }
      },
      "source": [
        "mov_avg([3, 5, 7, 2, 8, 10, 11, 65, 72, 81, 99, 100, 150],3)"
      ],
      "execution_count": 95,
      "outputs": [
        {
          "output_type": "stream",
          "text": [
            "[[  5.           4.66666667   5.66666667   6.66666667   9.66666667\n",
            "   28.66666667  49.33333333  72.66666667  84.          93.33333333\n",
            "  116.33333333]]\n"
          ],
          "name": "stdout"
        }
      ]
    }
  ]
}